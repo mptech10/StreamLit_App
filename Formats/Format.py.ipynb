{
 "cells": [
  {
   "cell_type": "code",
   "execution_count": 1,
   "id": "40ccbe65",
   "metadata": {},
   "outputs": [],
   "source": [
    "import pandas as pd\n",
    "import json"
   ]
  },
  {
   "cell_type": "code",
   "execution_count": 8,
   "id": "e88c1823",
   "metadata": {},
   "outputs": [
    {
     "data": {
      "text/html": [
       "<div>\n",
       "<style scoped>\n",
       "    .dataframe tbody tr th:only-of-type {\n",
       "        vertical-align: middle;\n",
       "    }\n",
       "\n",
       "    .dataframe tbody tr th {\n",
       "        vertical-align: top;\n",
       "    }\n",
       "\n",
       "    .dataframe thead th {\n",
       "        text-align: right;\n",
       "    }\n",
       "</style>\n",
       "<table border=\"1\" class=\"dataframe\">\n",
       "  <thead>\n",
       "    <tr style=\"text-align: right;\">\n",
       "      <th></th>\n",
       "      <th>EMPLOYEE</th>\n",
       "      <th>MANAGER</th>\n",
       "    </tr>\n",
       "  </thead>\n",
       "  <tbody>\n",
       "    <tr>\n",
       "      <th>0</th>\n",
       "      <td>ADAMS</td>\n",
       "      <td>SCOTT</td>\n",
       "    </tr>\n",
       "    <tr>\n",
       "      <th>1</th>\n",
       "      <td>ALLEN</td>\n",
       "      <td>BLAKE</td>\n",
       "    </tr>\n",
       "    <tr>\n",
       "      <th>2</th>\n",
       "      <td>BLAKE</td>\n",
       "      <td>KING</td>\n",
       "    </tr>\n",
       "    <tr>\n",
       "      <th>3</th>\n",
       "      <td>CLARK</td>\n",
       "      <td>KING</td>\n",
       "    </tr>\n",
       "    <tr>\n",
       "      <th>4</th>\n",
       "      <td>FORD</td>\n",
       "      <td>JONES</td>\n",
       "    </tr>\n",
       "  </tbody>\n",
       "</table>\n",
       "</div>"
      ],
      "text/plain": [
       "  EMPLOYEE MANAGER\n",
       "0    ADAMS   SCOTT\n",
       "1    ALLEN   BLAKE\n",
       "2    BLAKE    KING\n",
       "3    CLARK    KING\n",
       "4     FORD   JONES"
      ]
     },
     "execution_count": 8,
     "metadata": {},
     "output_type": "execute_result"
    }
   ],
   "source": [
    "df = pd.read_csv('data/employee-manager.csv', header = 0).convert_dtypes()\n",
    "df.head()"
   ]
  },
  {
   "cell_type": "code",
   "execution_count": 14,
   "id": "8ef8107d",
   "metadata": {},
   "outputs": [],
   "source": [
    "def getJSON(df):\n",
    "    nodes = {}\n",
    "    for _, row in df.iterrows():\n",
    "        name = row.iloc[0]\n",
    "        nodes[name] = {\"name\" : name }\n",
    "        \n",
    "    root = None\n",
    "    \n",
    "    for _, row in df.iterrows():\n",
    "        node = nodes[row.iloc[0]]\n",
    "        isRoot = pd.isna(row.iloc[1])\n",
    "        if isRoot:\n",
    "            root = node\n",
    "        else:\n",
    "            parent = nodes[row.iloc[1]]\n",
    "            if \"children\" not in parent:\n",
    "                parent[\"children\"] = []\n",
    "            parent[\"children\"].append(node)\n",
    "    #eventually it would have king at top and its children\n",
    "    return root"
   ]
  },
  {
   "cell_type": "code",
   "execution_count": null,
   "id": "08bd2111",
   "metadata": {},
   "outputs": [],
   "source": []
  },
  {
   "cell_type": "code",
   "execution_count": 17,
   "id": "5fd5217a",
   "metadata": {},
   "outputs": [],
   "source": [
    "root = getJSON(df)\n",
    "with open('data/employee-manager.json', \"w\") as f:\n",
    "    f.writelines(json.dumps(root, indent = 2))"
   ]
  }
 ],
 "metadata": {
  "kernelspec": {
   "display_name": "Python 3 (ipykernel)",
   "language": "python",
   "name": "python3"
  },
  "language_info": {
   "codemirror_mode": {
    "name": "ipython",
    "version": 3
   },
   "file_extension": ".py",
   "mimetype": "text/x-python",
   "name": "python",
   "nbconvert_exporter": "python",
   "pygments_lexer": "ipython3",
   "version": "3.11.3"
  }
 },
 "nbformat": 4,
 "nbformat_minor": 5
}
